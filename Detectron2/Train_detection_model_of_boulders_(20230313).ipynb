{
 "cells": [
  {
   "cell_type": "markdown",
   "id": "e7bd2178",
   "metadata": {},
   "source": [
    "## Train Mask R-CNN model for detecting boulders\n",
    "# (update 2023 04 13)"
   ]
  },
  {
   "cell_type": "code",
   "execution_count": 1,
   "id": "a7041a18",
   "metadata": {},
   "outputs": [
    {
     "data": {
      "text/html": [
       "<style>\n",
       "    div#notebook-container    { width: 95%; }\n",
       "    div#menubar-container     { width: 65%; }\n",
       "    div#maintoolbar-container { width: 99%; }\n",
       "</style>\n"
      ],
      "text/plain": [
       "<IPython.core.display.HTML object>"
      ]
     },
     "metadata": {},
     "output_type": "display_data"
    }
   ],
   "source": [
    "# Display full window\n",
    "%%HTML\n",
    "<style>\n",
    "    div#notebook-container    { width: 95%; }\n",
    "    div#menubar-container     { width: 65%; }\n",
    "    div#maintoolbar-container { width: 99%; }\n",
    "</style>"
   ]
  },
  {
   "cell_type": "code",
   "execution_count": 1,
   "id": "579b7937",
   "metadata": {},
   "outputs": [],
   "source": [
    "# Load Detectron2 and related modules\n",
    "import detectron2\n",
    "from detectron2.utils.logger import setup_logger\n",
    "setup_logger()\n",
    "\n",
    "import numpy as np\n",
    "import cv2\n",
    "import random\n",
    "import os\n",
    "import matplotlib.pyplot as plt\n",
    "%matplotlib inline\n",
    "\n",
    "from detectron2 import model_zoo\n",
    "from detectron2.engine import DefaultPredictor\n",
    "from detectron2.config import get_cfg\n",
    "from detectron2.utils.visualizer import Visualizer\n",
    "from detectron2.data import MetadataCatalog\n",
    "from detectron2.data.catalog import DatasetCatalog"
   ]
  },
  {
   "cell_type": "code",
   "execution_count": 3,
   "id": "de81ca55",
   "metadata": {},
   "outputs": [],
   "source": [
    "# Load training images annotated by coco format (Note: datasets have alreadly been augmented)\n",
    "from detectron2.data.datasets import register_coco_instances\n",
    "BASE_PATH = \"Drirectory path of your datasets\"\n",
    "\n",
    "#DatasetCatalog._REGISTERED.clear()\n",
    "register_coco_instances(\"gravel_train\", {}, os.path.join(BASE_PATH, \"train_annotations.json\"),      os.path.join(BASE_PATH, \"train\"))\n",
    "register_coco_instances(\"gravel_valid\", {}, os.path.join(BASE_PATH, \"validation_annotations.json\"), os.path.join(BASE_PATH, \"valid\"))\n",
    "register_coco_instances(\"gravel_test\",  {}, os.path.join(BASE_PATH, \"testing_annotations.json\"),    os.path.join(BASE_PATH, \"test\"))"
   ]
  },
  {
   "cell_type": "code",
   "execution_count": null,
   "id": "134439bf",
   "metadata": {},
   "outputs": [],
   "source": [
    "# Get metadata of datasets\n",
    "gravel_metadata = MetadataCatalog.get(\"gravel_train\")\n",
    "dataset_dicts = DatasetCatalog.get(\"gravel_train\")\n",
    "\n",
    "import random\n",
    "from detectron2.utils.visualizer import Visualizer\n",
    "\n",
    "import matplotlib.pyplot as plt\n",
    "%matplotlib inline\n",
    "\n",
    "# Show 10 images and annotaions within the traning dataset\n",
    "for d in random.sample(dataset_dicts, 10):\n",
    "    print(d[\"file_name\"])\n",
    "    img = cv2.imread(d[\"file_name\"])\n",
    "    visualizer = Visualizer(img[:, :, ::-1], \n",
    "                            metadata=gravel_metadata, \n",
    "                            scale=1.0\n",
    "                           )\n",
    "    out = visualizer.draw_dataset_dict(d)\n",
    "    plt.figure(figsize=(8,8))\n",
    "    plt.imshow(out.get_image())"
   ]
  },
  {
   "cell_type": "code",
   "execution_count": 5,
   "id": "508b1e54-813a-4a4b-ad02-7fcd8f269349",
   "metadata": {},
   "outputs": [],
   "source": [
    "# Define trainer\n",
    "\n",
    "#torch.cuda.empty_cache()\n",
    "import detectron2.data.transforms as T\n",
    "from detectron2.data import DatasetMapper, build_detection_train_loader\n",
    "\n",
    "class NonAugmentationsTrainer(DefaultTrainer):\n",
    "  @classmethod\n",
    "  def build_evaluator(cls, cfg, dataset_name, output_folder=None):\n",
    "\n",
    "    if output_folder is None:\n",
    "        os.makedirs(os.path.join(BASE_PATH,\"coco_eval\"), exist_ok=True)\n",
    "        output_folder = os.path.join(BASE_PATH,\"coco_eval\")\n",
    "\n",
    "    return COCOEvaluator(dataset_name, cfg, False, output_folder)"
   ]
  },
  {
   "cell_type": "code",
   "execution_count": null,
   "id": "7271dcab",
   "metadata": {},
   "outputs": [],
   "source": [
    "# Train\n",
    "from detectron2.engine import DefaultTrainer\n",
    "model_path = os.path.join(BASE_PATH,'model')\n",
    "\n",
    "# Set up config file\n",
    "cfg = get_cfg()\n",
    "cfg.merge_from_file(model_zoo.get_config_file(\"COCO-InstanceSegmentation/mask_rcnn_R_50_FPN_3x.yaml\"))\n",
    "cfg.DATASETS.TRAIN = (\"gravel_train\",)\n",
    "cfg.DATASETS.TEST  = (\"gravel_valid\",)\n",
    "cfg.INPUT.MAX_SIZE_TRAIN=2000\n",
    "cfg.INPUT.MAX_SIZE_TEST =2000\n",
    "cfg.INPUT.MIN_SIZE_TRAIN=2000\n",
    "cfg.INPUT.MIN_SIZE_TEST =2000\n",
    "\n",
    "cfg.DATALOADER.NUM_WORKERS = 4\n",
    "cfg.DATALOADER.FILTER_EMPTY_ANNOTATIONS = False\n",
    "\n",
    "cfg.SOLVER.IMS_PER_BATCH = 2\n",
    "cfg.SOLVER.BASE_LR = 0.00025 \n",
    "cfg.MODEL.WEIGHTS = model_zoo.get_checkpoint_url(\"COCO-InstanceSegmentation/mask_rcnn_R_50_FPN_3x.yaml\")  # From model zoo\n",
    "#cfg.MODEL.WEIGHTS = os.path.join(model_path, \"model_0199999.pth\") # From local\n",
    "\n",
    "NUM_IMAGES = len(dataset_dicts)\n",
    "NUM_IM_EPOCH  = round(NUM_IMAGES/cfg.SOLVER.IMS_PER_BATCH)\n",
    "cfg.SOLVER.MAX_ITER = NUM_IMAGES * 15 \n",
    "cfg.SOLVER.CHECKPOINT_PERIOD = 5000\n",
    "cfg.SOLVER.STEPS = (NUM_IMAGES * 2, NUM_IMAGES * 4, NUM_IMAGES * 6 , NUM_IMAGES * 8)\n",
    "\n",
    "cfg.SOLVER.GAMMA = 0.1     \n",
    "cfg.TEST.DETECTIONS_PER_IMAGE = 400\n",
    "cfg.OUTPUT_DIR = model_path\n",
    "os.makedirs(cfg.OUTPUT_DIR, exist_ok=True)\n",
    "      \n",
    "cfg.MODEL.ROI_HEADS.BATCH_SIZE_PER_IMAGE = 256 \n",
    "cfg.MODEL.ROI_HEADS.NUM_CLASSES = 1  \n",
    "\n",
    "cfg.TEST.EVAL_PERIOD = NUM_IM_EPOCH * 1\n",
    "\n",
    "print('Number of images: ' + str(NUM_IMAGES)) \n",
    "print('Max iteration:' + str(cfg.SOLVER.MAX_ITER))\n",
    "\n",
    "# Apply training\n",
    "trainer = NonAugmentationsTrainer(cfg)\n",
    "trainer.resume_or_load(resume=False)\n",
    "trainer.train()\n",
    "\n",
    "# Note:\n",
    "# small:  [0**2 32**2]\n",
    "# medium: [32**2 96**2]\n",
    "# large:  [96**2 100000**2]"
   ]
  },
  {
   "cell_type": "code",
   "execution_count": 10,
   "id": "a43d2f38",
   "metadata": {
    "tags": []
   },
   "outputs": [
    {
     "data": {
      "text/html": [
       "\n",
       "      <iframe id=\"tensorboard-frame-3cf3c7b979bb8ba5\" width=\"100%\" height=\"800\" frameborder=\"0\">\n",
       "      </iframe>\n",
       "      <script>\n",
       "        (function() {\n",
       "          const frame = document.getElementById(\"tensorboard-frame-3cf3c7b979bb8ba5\");\n",
       "          const url = new URL(\"/\", window.location);\n",
       "          const port = 6006;\n",
       "          if (port) {\n",
       "            url.port = port;\n",
       "          }\n",
       "          frame.src = url;\n",
       "        })();\n",
       "      </script>\n",
       "    "
      ],
      "text/plain": [
       "<IPython.core.display.HTML object>"
      ]
     },
     "metadata": {},
     "output_type": "display_data"
    }
   ],
   "source": [
    "# Show the training curves in tensorboard:\n",
    "%load_ext tensorboard\n",
    "%tensorboard --logdir /home/kei/ドキュメント/data/Prj_Gravel/Prj_gravel20230405/model"
   ]
  },
  {
   "cell_type": "markdown",
   "id": "5b5a66f1",
   "metadata": {},
   "source": [
    "# Show training results"
   ]
  },
  {
   "cell_type": "code",
   "execution_count": 7,
   "id": "f33265d7",
   "metadata": {},
   "outputs": [],
   "source": [
    "# Load training weight\n",
    "cfg.MODEL.WEIGHTS = os.path.join(cfg.OUTPUT_DIR, \"model_final.pth\")  # path to the trained model weight\n",
    "cfg.MODEL.ROI_HEADS.SCORE_THRESH_TEST = 0.7   # set a custom testing threshold\n",
    "predictor = DefaultPredictor(cfg)"
   ]
  },
  {
   "cell_type": "code",
   "execution_count": 8,
   "id": "1fe849ee-89f3-4c43-981f-bf62c890f096",
   "metadata": {
    "tags": []
   },
   "outputs": [],
   "source": [
    "# Register testing image dataset\n",
    "register_coco_instances(\"gravel_test3\", {}, os.path.join(BASE_PATH, \"test/_annotations.coco.json\"), os.path.join(BASE_PATH, \"test\"))"
   ]
  },
  {
   "cell_type": "code",
   "execution_count": null,
   "id": "dfb31521",
   "metadata": {},
   "outputs": [],
   "source": [
    "# Evaluation\n",
    "from detectron2.evaluation import COCOEvaluator, inference_on_dataset\n",
    "from detectron2.data import build_detection_test_loader\n",
    "evaluator = COCOEvaluator(\"gravel_test\", cfg, False, output_dir=\"path to output directory\")\n",
    "\n",
    "val_loader = build_detection_test_loader(cfg, \"gravel_test\")\n",
    "inference_on_dataset(predictor.model, val_loader, evaluator)"
   ]
  },
  {
   "cell_type": "code",
   "execution_count": null,
   "id": "a64b3bb8-e869-4f8e-a839-6b684c26045e",
   "metadata": {},
   "outputs": [],
   "source": [
    "# Apply the model to some images\n",
    "from detectron2.utils.visualizer import ColorMode\n",
    "dataset_dicts = DatasetCatalog.get(\"gravel_test\")\n",
    "for d in random.sample(dataset_dicts, 20):    \n",
    "    im = cv2.imread(d[\"file_name\"])\n",
    "    outputs = predictor(im)  # format is documented at https://detectron2.readthedocs.io/tutorials/models.html#model-output-format\n",
    "    v = Visualizer(im[:, :, ::-1],\n",
    "                   metadata=gravel_metadata, \n",
    "                   scale=1, \n",
    "                   instance_mode=ColorMode.SEGMENTATION\n",
    "                  )\n",
    "    out = v.draw_instance_predictions(outputs[\"instances\"].to(\"cpu\"))\n",
    "    plt.figure(figsize=(20,20))\n",
    "    plt.imshow(out.get_image())"
   ]
  },
  {
   "cell_type": "code",
   "execution_count": null,
   "id": "6ce39ec9-5675-46a8-ae77-cb7e863fe882",
   "metadata": {},
   "outputs": [],
   "source": [
    "# PR plot\n",
    "plt.figure(figsize=(15, 8))\n",
    "\n",
    "for i, _cls in enumerate(df_dict.keys()):\n",
    "    df = df_dict[_cls]\n",
    "    \n",
    "    ax = plt.subplot(2, 3, i + 1)\n",
    "    ax.plot(df['rec'], df['pre'], '-o')\n",
    "    ax.fill_between(df['rec'], df['pre'], facecolor='b', alpha=0.3)\n",
    "    ax.set_xlim([0, 1.05])\n",
    "    ax.set_ylim([0.5, 1.03])\n",
    "    ax.grid(True)\n",
    "    ax.set_title(CAT_NAME_JP[_cls])\n",
    "    ax.set_xlabel('Recall')\n",
    "    ax.set_ylabel('Precision')\n",
    "    \n",
    "plt.tight_layout()\n",
    "plt.show()"
   ]
  }
 ],
 "metadata": {
  "kernelspec": {
   "display_name": "Python 3",
   "language": "python",
   "name": "python3"
  },
  "language_info": {
   "codemirror_mode": {
    "name": "ipython",
    "version": 3
   },
   "file_extension": ".py",
   "mimetype": "text/x-python",
   "name": "python",
   "nbconvert_exporter": "python",
   "pygments_lexer": "ipython3",
   "version": "3.9.13"
  }
 },
 "nbformat": 4,
 "nbformat_minor": 5
}
